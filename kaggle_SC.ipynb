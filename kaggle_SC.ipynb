{
  "nbformat": 4,
  "nbformat_minor": 0,
  "metadata": {
    "colab": {
      "provenance": [],
      "mount_file_id": "17F-fTTi3X_d8klHlnc-qIGDMYzlYyqA7",
      "authorship_tag": "ABX9TyM5IJ61zZop3aaxAJRcQyDa",
      "include_colab_link": true
    },
    "kernelspec": {
      "name": "python3",
      "display_name": "Python 3"
    },
    "language_info": {
      "name": "python"
    }
  },
  "cells": [
    {
      "cell_type": "markdown",
      "metadata": {
        "id": "view-in-github",
        "colab_type": "text"
      },
      "source": [
        "<a href=\"https://colab.research.google.com/github/avivleemann/Data-science-best-resources/blob/master/kaggle_SC.ipynb\" target=\"_parent\"><img src=\"https://colab.research.google.com/assets/colab-badge.svg\" alt=\"Open In Colab\"/></a>"
      ]
    },
    {
      "cell_type": "code",
      "execution_count": 1,
      "metadata": {
        "colab": {
          "base_uri": "https://localhost:8080/"
        },
        "id": "jpvtFEOmi1Jx",
        "outputId": "537bd02e-4196-4ce7-fa88-6db16eda498f"
      },
      "outputs": [
        {
          "output_type": "stream",
          "name": "stdout",
          "text": [
            "Looking in indexes: https://pypi.org/simple, https://us-python.pkg.dev/colab-wheels/public/simple/\n",
            "Requirement already satisfied: kaggle in /usr/local/lib/python3.10/dist-packages (1.5.13)\n",
            "Requirement already satisfied: six>=1.10 in /usr/local/lib/python3.10/dist-packages (from kaggle) (1.16.0)\n",
            "Requirement already satisfied: python-dateutil in /usr/local/lib/python3.10/dist-packages (from kaggle) (2.8.2)\n",
            "Requirement already satisfied: tqdm in /usr/local/lib/python3.10/dist-packages (from kaggle) (4.65.0)\n",
            "Requirement already satisfied: python-slugify in /usr/local/lib/python3.10/dist-packages (from kaggle) (8.0.1)\n",
            "Requirement already satisfied: requests in /usr/local/lib/python3.10/dist-packages (from kaggle) (2.27.1)\n",
            "Requirement already satisfied: certifi in /usr/local/lib/python3.10/dist-packages (from kaggle) (2022.12.7)\n",
            "Requirement already satisfied: urllib3 in /usr/local/lib/python3.10/dist-packages (from kaggle) (1.26.15)\n",
            "Requirement already satisfied: text-unidecode>=1.3 in /usr/local/lib/python3.10/dist-packages (from python-slugify->kaggle) (1.3)\n",
            "Requirement already satisfied: idna<4,>=2.5 in /usr/local/lib/python3.10/dist-packages (from requests->kaggle) (3.4)\n",
            "Requirement already satisfied: charset-normalizer~=2.0.0 in /usr/local/lib/python3.10/dist-packages (from requests->kaggle) (2.0.12)\n"
          ]
        }
      ],
      "source": [
        "! pip install kaggle\n",
        "! mkdir ~/.kaggle\n",
        "! cp kaggle.json ~/.kaggle/\n",
        "! chmod 600 ~/.kaggle/kaggle.json"
      ]
    },
    {
      "cell_type": "code",
      "source": [
        "! kaggle datasets download -d alexandervc/scrnaseq-breast-cancer-cell-lines-atlas"
      ],
      "metadata": {
        "colab": {
          "base_uri": "https://localhost:8080/"
        },
        "id": "UyYtiuiZjOH0",
        "outputId": "d45c5fb5-ef60-4237-c0c1-0207a0fc74ee"
      },
      "execution_count": 3,
      "outputs": [
        {
          "output_type": "stream",
          "name": "stdout",
          "text": [
            "Downloading scrnaseq-breast-cancer-cell-lines-atlas.zip to /content\n",
            " 99% 574M/577M [00:28<00:00, 26.4MB/s]\n",
            "100% 577M/577M [00:28<00:00, 20.9MB/s]\n"
          ]
        }
      ]
    },
    {
      "cell_type": "code",
      "source": [
        "! unzip   scrnaseq-breast-cancer-cell-lines-atlas"
      ],
      "metadata": {
        "colab": {
          "base_uri": "https://localhost:8080/"
        },
        "id": "X8Mklu_qk9Xs",
        "outputId": "0b4463ae-3336-436a-a0f7-5e15a95ea900"
      },
      "execution_count": 8,
      "outputs": [
        {
          "output_type": "stream",
          "name": "stdout",
          "text": [
            "Archive:  scrnaseq-breast-cancer-cell-lines-atlas.zip\n",
            "  inflating: GSE173634_Human_BreastCancer_32CellLines_Y2021_35276Cells_Figshare_Counts_Gambardella_diBernardo.h5ad  \n",
            "  inflating: MTX_FMT_GSE173634/barcodes.tsv  \n",
            "  inflating: MTX_FMT_GSE173634/features.tsv  \n",
            "  inflating: MTX_FMT_GSE173634/matrix.mtx  \n"
          ]
        }
      ]
    },
    {
      "cell_type": "code",
      "source": [
        "\n",
        "#@title Install packages\n",
        "%%capture\n",
        "! pip install lazypredict\n",
        "! pip install pandas\n",
        "! pip install numpy\n",
        "! pip install scanpy\n",
        "!pip install scikit-learn\n",
        "!pip install scipy\n",
        "!pip install anndata\n",
        "!pip install seaborn\n",
        "\n",
        "import pandas as pd\n",
        "import numpy as np\n",
        "import lazypredict\n",
        "import scanpy\n",
        "import io\n",
        "import anndata\n",
        "import seaborn as sns\n",
        "\n",
        "from scipy.stats import binom\n",
        "from scipy.stats import poisson\n",
        "from scipy.sparse import csr_matrix\n",
        "from scipy.io import mmread\n",
        "from sklearn import linear_model\n",
        "from IPython.display import HTML\n",
        "from mizani.breaks import date_breaks\n",
        "from mizani.formatters import date_format\n",
        "# Only pandas >= v0.25.0 supports column names with spaces in querys\n",
        "import plotnine as p\n",
        "import requests\n",
        "import warnings\n",
        "import colorsys\n",
        "warnings.filterwarnings(\"ignore\")  # plotnine has a lot of MatplotlibDeprecationWarning's\n",
        "import seaborn as sns\n",
        "sns.set_context(\"notebook\", font_scale=1.5, rc={\"lines.linewidth\": 2.5})\n",
        "fsize=20\n",
        "\n"
      ],
      "metadata": {
        "id": "W_b4XkzTlIuC"
      },
      "execution_count": 7,
      "outputs": []
    },
    {
      "cell_type": "code",
      "source": [
        "pd.rea"
      ],
      "metadata": {
        "id": "Z72BD_NOlrOG"
      },
      "execution_count": null,
      "outputs": []
    },
    {
      "cell_type": "code",
      "source": [],
      "metadata": {
        "id": "U2dHo3L_mjGH"
      },
      "execution_count": null,
      "outputs": []
    },
    {
      "cell_type": "code",
      "source": [],
      "metadata": {
        "id": "3_-pXXzfmjJH"
      },
      "execution_count": null,
      "outputs": []
    }
  ]
}